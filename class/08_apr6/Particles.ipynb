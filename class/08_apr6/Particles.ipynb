{
 "cells": [
  {
   "cell_type": "markdown",
   "metadata": {
    "deletable": true,
    "editable": true
   },
   "source": [
    "# Particle Filters Codelab"
   ]
  },
  {
   "cell_type": "markdown",
   "metadata": {
    "deletable": true,
    "editable": true
   },
   "source": [
    "Below, we will implement a Particle Filter. You will have to implement the move, sense, and resample function."
   ]
  },
  {
   "cell_type": "code",
   "execution_count": null,
   "metadata": {
    "collapsed": true,
    "deletable": true,
    "editable": true
   },
   "outputs": [],
   "source": [
    "# import statements\n",
    "import numpy as np\n",
    "%matplotlib inline\n",
    "import matplotlib.pyplot as plt\n",
    "import matplotlib.mlab as mlab\n",
    "\n",
    "# defining variables number of particles (N), weights, the landmarks for sensing, etc.\n",
    "N = 3000\n",
    "true_state = np.array([50, 50])\n",
    "landmarks =  np.array([(np.random.random()*100, np.random.random()*100) for i in range(10)])\n",
    "particles = np.array([(np.random.random()*100, np.random.random()*100) for i in range(N)])\n",
    "weights = np.array([1. for i in range(N)])    "
   ]
  },
  {
   "cell_type": "markdown",
   "metadata": {
    "deletable": true,
    "editable": true
   },
   "source": [
    "To make visualizations easier, we are defining a draw function for you. This will plot your true position in red, all of the particles in blue, and the landmarks in green. You may have to look closely!\n",
    "\n",
    "Try running the below code to visualize the initial state."
   ]
  },
  {
   "cell_type": "code",
   "execution_count": null,
   "metadata": {
    "collapsed": false,
    "deletable": true,
    "editable": true
   },
   "outputs": [],
   "source": [
    "# draw method to help visualize everything\n",
    "def draw():\n",
    "    plt.xlim(0, 100)\n",
    "    plt.ylim(0, 100)\n",
    "    plt.scatter(particles[:,0], particles[:, 1])\n",
    "    plt.scatter(landmarks[:,0], landmarks[:, 1], color='green')\n",
    "    plt.scatter([true_state[0]], [true_state[1]], color='red')\n",
    "    \n",
    "draw()"
   ]
  },
  {
   "cell_type": "markdown",
   "metadata": {
    "deletable": true,
    "editable": true
   },
   "source": [
    "Voila! We can see everything.\n",
    "\n",
    "We will define the measurement function for you. In a nutshell, the measurement function gets the distance between the robot and all of the landmarks (and corrupts it with some `z_noise`). It then sorts this list, and returns the subset of the list that is less than or equal to `max_sense_dist` (defined below)."
   ]
  },
  {
   "cell_type": "code",
   "execution_count": null,
   "metadata": {
    "collapsed": true,
    "deletable": true,
    "editable": true
   },
   "outputs": [],
   "source": [
    "max_sense_dist = 60\n",
    "z_noise = 4\n",
    "def get_measurement(true_state):\n",
    "    exp = np.apply_along_axis(lambda x: sqrt(x[0]**2 + x[1]**2), 1, landmarks - true_state) # get distances\n",
    "    exp = np.sort(exp) + np.random.normal(scale=z_noise, size=exp.shape) # corrupt with noise\n",
    "    return exp[exp <= max_sense_dist] # return the subset of the list that is <= max_sense_dist"
   ]
  },
  {
   "cell_type": "markdown",
   "metadata": {
    "deletable": true,
    "editable": true
   },
   "source": [
    "Now, let's implement the sense function. As you can see by the function definition, the particles, weights of the particles, landmarks, and current measurement are passed in. Note that `weights[i]` refers to the particle at `particles[i]`. This function should iterate through all particles and for each one, get the expected measurement, sort the list (first 2 steps of `get_measurement` above), and then calculate the `P(particles measurement|z)`, or as we have normally been referring to it, `P(x|z)`. \n",
    "\n",
    "To use a normal probability density function, you can use `norm.pdf(p, scale=z_noise)`, where `p` is the difference between the expected measurement and `z`. Note that your expected measurement may be of a different size than `z` and to cope with this you will need to truncate on of the arrays. \n",
    "\n",
    "Once you compute `norm.pdf()`, multiply that by the corresponding weight to get the new weight. Don't forget to renormalize weights after doing calculations for all of your particles!"
   ]
  },
  {
   "cell_type": "code",
   "execution_count": null,
   "metadata": {
    "collapsed": true,
    "deletable": true,
    "editable": true
   },
   "outputs": [],
   "source": [
    "from math import sqrt\n",
    "from scipy.stats import norm\n",
    "\n",
    "def sense(particles, weights, landmarks, z):\n",
    "    for i, particle in enumerate(particles):\n",
    "        exp = np.apply_along_axis(lambda x: sqrt(x[0]**2 + x[1]**2), 1, landmarks - particle)\n",
    "        exp = np.sort(exp)\n",
    "        p = norm.pdf(z - exp[:z.size], scale=z_noise)\n",
    "        weights[i] *= np.prod(p)\n",
    "    weights /= np.sum(weights)"
   ]
  },
  {
   "cell_type": "markdown",
   "metadata": {
    "deletable": true,
    "editable": true
   },
   "source": [
    "Next step: move function! The function takes your list of particles (`particles`) and `u`, the movement vector. Move all your particles by adding in `u` and some noise. We suggest you use `np.random.normal` with `scale=move_noise`. There is a way to make `np.random.normal` return an array so you can do all of this in one line - we'll let you use Google to figure that out!"
   ]
  },
  {
   "cell_type": "code",
   "execution_count": null,
   "metadata": {
    "collapsed": true,
    "deletable": true,
    "editable": true
   },
   "outputs": [],
   "source": [
    "move_noise = 1\n",
    "def move(particles, u):\n",
    "    particles += u + np.random.normal(scale=move_noise, size=particles.shape)"
   ]
  },
  {
   "cell_type": "markdown",
   "metadata": {
    "deletable": true,
    "editable": true
   },
   "source": [
    "Now, for the coolest part of the particle filter, we need to program the resample step! In a nutshell, you need to pick new particles based on the weights of the last iteration. A particle should be resampled with probability relative to their weight over the total weight (should be 1). We suggest looking at the [np.cumsum](https://docs.scipy.org/doc/numpy/reference/generated/numpy.cumsum.html) method to help you do this."
   ]
  },
  {
   "cell_type": "code",
   "execution_count": null,
   "metadata": {
    "collapsed": true,
    "deletable": true,
    "editable": true
   },
   "outputs": [],
   "source": [
    "def resample(particles, weights):\n",
    "    new_particles = np.zeros_like(particles)\n",
    "    new_weights = np.zeros_like(weights)\n",
    "    w_sum = np.cumsum(weights)\n",
    "    for i in range(particles.shape[0]):\n",
    "        c = np.random.random()\n",
    "        j = np.argmax(w_sum > c)\n",
    "        new_particles[i,:] = particles[j,:]\n",
    "        new_weights[i] = weights[j]\n",
    "    new_weights /= np.sum(new_weights)\n",
    "    return new_particles, new_weights"
   ]
  },
  {
   "cell_type": "markdown",
   "metadata": {
    "deletable": true,
    "editable": true
   },
   "source": [
    "Run the below cells to see the particle filter in action!"
   ]
  },
  {
   "cell_type": "code",
   "execution_count": null,
   "metadata": {
    "collapsed": false,
    "deletable": true,
    "editable": true
   },
   "outputs": [],
   "source": [
    "u = np.array([10, 0])\n",
    "true_state += u\n",
    "move(particles, u + np.random.normal(scale=move_noise, size=u.shape))\n",
    "\n",
    "draw()"
   ]
  },
  {
   "cell_type": "code",
   "execution_count": null,
   "metadata": {
    "collapsed": false,
    "deletable": true,
    "editable": true
   },
   "outputs": [],
   "source": [
    "z = get_measurement(true_state)\n",
    "sense(particles, weights, landmarks, z)\n",
    "particles, weights = resample(particles, weights)\n",
    "draw()\n"
   ]
  },
  {
   "cell_type": "code",
   "execution_count": null,
   "metadata": {
    "collapsed": false,
    "deletable": true,
    "editable": true
   },
   "outputs": [],
   "source": [
    "u = np.array([10, -10])\n",
    "true_state += u\n",
    "move(particles, u + np.random.normal(scale=move_noise, size=u.shape))\n",
    "\n",
    "draw()"
   ]
  },
  {
   "cell_type": "code",
   "execution_count": null,
   "metadata": {
    "collapsed": false,
    "deletable": true,
    "editable": true
   },
   "outputs": [],
   "source": [
    "z = get_measurement(true_state)\n",
    "sense(particles, weights, landmarks, z)\n",
    "particles, weights = resample(particles, weights)\n",
    "\n",
    "draw()"
   ]
  },
  {
   "cell_type": "code",
   "execution_count": null,
   "metadata": {
    "collapsed": false,
    "deletable": true,
    "editable": true
   },
   "outputs": [],
   "source": [
    "u = np.array([10, -10])\n",
    "true_state += u\n",
    "move(particles, u + np.random.normal(scale=move_noise, size=u.shape))\n",
    "\n",
    "draw()"
   ]
  },
  {
   "cell_type": "code",
   "execution_count": null,
   "metadata": {
    "collapsed": false,
    "deletable": true,
    "editable": true
   },
   "outputs": [],
   "source": [
    "z = get_measurement(true_state)\n",
    "sense(particles, weights, landmarks, z)\n",
    "particles, weights = resample(particles, weights)\n",
    "draw()"
   ]
  },
  {
   "cell_type": "code",
   "execution_count": null,
   "metadata": {
    "collapsed": true,
    "deletable": true,
    "editable": true
   },
   "outputs": [],
   "source": []
  }
 ],
 "metadata": {
  "kernelspec": {
   "display_name": "Python 2",
   "language": "python",
   "name": "python2"
  },
  "language_info": {
   "codemirror_mode": {
    "name": "ipython",
    "version": 2
   },
   "file_extension": ".py",
   "mimetype": "text/x-python",
   "name": "python",
   "nbconvert_exporter": "python",
   "pygments_lexer": "ipython2",
   "version": "2.7.6"
  }
 },
 "nbformat": 4,
 "nbformat_minor": 2
}
